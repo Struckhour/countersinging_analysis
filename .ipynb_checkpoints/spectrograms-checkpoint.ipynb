{
 "cells": [
  {
   "cell_type": "code",
   "execution_count": null,
   "id": "7da60d0e-9578-45d7-b13c-efa6ee1732a3",
   "metadata": {},
   "outputs": [],
   "source": [
    "import librosa\n",
    "import librosa.display\n",
    "import numpy as np\n",
    "from numpy import genfromtxt\n",
    "import matplotlib.pyplot as plt\n",
    "from matplotlib.pyplot import cm\n",
    "from matplotlib.animation import FuncAnimation\n",
    "from IPython import display\n",
    "import random \n",
    "import scipy.stats as ss\n",
    "# import amp_functions as af\n",
    "import h5py\n",
    "from datetime import datetime\n",
    "from datetime import timedelta\n",
    "import math\n",
    "import glob\n",
    "import copy\n",
    "import pickle\n",
    "import pandas as pd"
   ]
  }
 ],
 "metadata": {
  "kernelspec": {
   "display_name": "Python 3 (ipykernel)",
   "language": "python",
   "name": "python3"
  },
  "language_info": {
   "codemirror_mode": {
    "name": "ipython",
    "version": 3
   },
   "file_extension": ".py",
   "mimetype": "text/x-python",
   "name": "python",
   "nbconvert_exporter": "python",
   "pygments_lexer": "ipython3",
   "version": "3.11.8"
  }
 },
 "nbformat": 4,
 "nbformat_minor": 5
}
